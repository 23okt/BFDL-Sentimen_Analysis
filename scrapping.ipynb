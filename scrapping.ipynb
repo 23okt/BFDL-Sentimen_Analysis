{
 "cells": [
  {
   "cell_type": "code",
   "execution_count": 1,
   "id": "dcfd95c0-975b-4993-a541-77d496a7ff80",
   "metadata": {},
   "outputs": [
    {
     "name": "stdout",
     "output_type": "stream",
     "text": [
      "Requirement already satisfied: youtube-comment-downloader in c:\\users\\lenovo\\.virtualenvs\\proyek_analisis_data-intkkwcu\\lib\\site-packages (0.1.76)\n",
      "Requirement already satisfied: dateparser in c:\\users\\lenovo\\.virtualenvs\\proyek_analisis_data-intkkwcu\\lib\\site-packages (from youtube-comment-downloader) (1.2.1)\n",
      "Requirement already satisfied: requests in c:\\users\\lenovo\\.virtualenvs\\proyek_analisis_data-intkkwcu\\lib\\site-packages (from youtube-comment-downloader) (2.32.3)\n",
      "Requirement already satisfied: python-dateutil>=2.7.0 in c:\\users\\lenovo\\.virtualenvs\\proyek_analisis_data-intkkwcu\\lib\\site-packages (from dateparser->youtube-comment-downloader) (2.9.0.post0)\n",
      "Requirement already satisfied: pytz>=2024.2 in c:\\users\\lenovo\\.virtualenvs\\proyek_analisis_data-intkkwcu\\lib\\site-packages (from dateparser->youtube-comment-downloader) (2025.1)\n",
      "Requirement already satisfied: regex!=2019.02.19,!=2021.8.27,>=2015.06.24 in c:\\users\\lenovo\\.virtualenvs\\proyek_analisis_data-intkkwcu\\lib\\site-packages (from dateparser->youtube-comment-downloader) (2024.11.6)\n",
      "Requirement already satisfied: tzlocal>=0.2 in c:\\users\\lenovo\\.virtualenvs\\proyek_analisis_data-intkkwcu\\lib\\site-packages (from dateparser->youtube-comment-downloader) (5.3.1)\n",
      "Requirement already satisfied: charset-normalizer<4,>=2 in c:\\users\\lenovo\\.virtualenvs\\proyek_analisis_data-intkkwcu\\lib\\site-packages (from requests->youtube-comment-downloader) (3.4.1)\n",
      "Requirement already satisfied: idna<4,>=2.5 in c:\\users\\lenovo\\.virtualenvs\\proyek_analisis_data-intkkwcu\\lib\\site-packages (from requests->youtube-comment-downloader) (3.10)\n",
      "Requirement already satisfied: urllib3<3,>=1.21.1 in c:\\users\\lenovo\\.virtualenvs\\proyek_analisis_data-intkkwcu\\lib\\site-packages (from requests->youtube-comment-downloader) (2.3.0)\n",
      "Requirement already satisfied: certifi>=2017.4.17 in c:\\users\\lenovo\\.virtualenvs\\proyek_analisis_data-intkkwcu\\lib\\site-packages (from requests->youtube-comment-downloader) (2025.1.31)\n",
      "Requirement already satisfied: six>=1.5 in c:\\users\\lenovo\\.virtualenvs\\proyek_analisis_data-intkkwcu\\lib\\site-packages (from python-dateutil>=2.7.0->dateparser->youtube-comment-downloader) (1.17.0)\n",
      "Requirement already satisfied: tzdata in c:\\users\\lenovo\\.virtualenvs\\proyek_analisis_data-intkkwcu\\lib\\site-packages (from tzlocal>=0.2->dateparser->youtube-comment-downloader) (2025.1)\n"
     ]
    }
   ],
   "source": [
    "!pip install youtube-comment-downloader"
   ]
  },
  {
   "cell_type": "markdown",
   "id": "7ca41c46-55f1-413e-83ef-20fc7de65963",
   "metadata": {},
   "source": [
    "# Scrapping Dataset"
   ]
  },
  {
   "cell_type": "markdown",
   "id": "17bec221-4c55-4a94-8d25-490c06368e50",
   "metadata": {},
   "source": [
    "Pada tahap ini dilakukan pengambilan comment youtube berasal dari video dari salah satu youtuber bernama Windah Basudara dengan judul video \"Melawan Razor Dengan Cobalt - Need For Speed Most Wanted Grafik HD\" di proyek ini akan melakukan analisis sentimen terhadap komentar yang ada pada video ini"
   ]
  },
  {
   "cell_type": "code",
   "execution_count": 2,
   "id": "bffd55b8-b31f-4abe-9917-1c019a3f9f16",
   "metadata": {},
   "outputs": [
    {
     "data": {
      "text/html": [
       "<div>\n",
       "<style scoped>\n",
       "    .dataframe tbody tr th:only-of-type {\n",
       "        vertical-align: middle;\n",
       "    }\n",
       "\n",
       "    .dataframe tbody tr th {\n",
       "        vertical-align: top;\n",
       "    }\n",
       "\n",
       "    .dataframe thead th {\n",
       "        text-align: right;\n",
       "    }\n",
       "</style>\n",
       "<table border=\"1\" class=\"dataframe\">\n",
       "  <thead>\n",
       "    <tr style=\"text-align: right;\">\n",
       "      <th></th>\n",
       "      <th>comment</th>\n",
       "    </tr>\n",
       "  </thead>\n",
       "  <tbody>\n",
       "    <tr>\n",
       "      <th>0</th>\n",
       "      <td>Most wanted ini masih yang terbaik tanpa adany...</td>\n",
       "    </tr>\n",
       "    <tr>\n",
       "      <th>1</th>\n",
       "      <td>Kata akumah mobil bmw 3 gtr lebih kenceng dari...</td>\n",
       "    </tr>\n",
       "    <tr>\n",
       "      <th>2</th>\n",
       "      <td>Mobil keren 😮</td>\n",
       "    </tr>\n",
       "    <tr>\n",
       "      <th>3</th>\n",
       "      <td>Sus</td>\n",
       "    </tr>\n",
       "    <tr>\n",
       "      <th>4</th>\n",
       "      <td>00:00</td>\n",
       "    </tr>\n",
       "  </tbody>\n",
       "</table>\n",
       "</div>"
      ],
      "text/plain": [
       "                                             comment\n",
       "0  Most wanted ini masih yang terbaik tanpa adany...\n",
       "1  Kata akumah mobil bmw 3 gtr lebih kenceng dari...\n",
       "2                                      Mobil keren 😮\n",
       "3                                                Sus\n",
       "4                                              00:00"
      ]
     },
     "execution_count": 2,
     "metadata": {},
     "output_type": "execute_result"
    }
   ],
   "source": [
    "from youtube_comment_downloader import YoutubeCommentDownloader\n",
    "import pandas as pd\n",
    "\n",
    "video_id = \"hzUG58aJ124\"\n",
    "\n",
    "scrapper = YoutubeCommentDownloader()\n",
    "comments = scrapper.get_comments(video_id)\n",
    "\n",
    "data = []\n",
    "for comment in comments:\n",
    "    data.append(comment[\"text\"])\n",
    "\n",
    "df = pd.DataFrame(data, columns=[\"comment\"])\n",
    "df.head(5)"
   ]
  },
  {
   "cell_type": "code",
   "execution_count": 3,
   "id": "51f80553-fc51-4c37-923d-bb3d4e5ec3cb",
   "metadata": {},
   "outputs": [
    {
     "name": "stdout",
     "output_type": "stream",
     "text": [
      "<class 'pandas.core.frame.DataFrame'>\n",
      "RangeIndex: 14078 entries, 0 to 14077\n",
      "Data columns (total 1 columns):\n",
      " #   Column   Non-Null Count  Dtype \n",
      "---  ------   --------------  ----- \n",
      " 0   comment  14078 non-null  object\n",
      "dtypes: object(1)\n",
      "memory usage: 110.1+ KB\n"
     ]
    }
   ],
   "source": [
    "df.info()"
   ]
  },
  {
   "cell_type": "code",
   "execution_count": 5,
   "id": "1d1ed8b1-1e0b-481b-b836-6cf697a0febc",
   "metadata": {},
   "outputs": [],
   "source": [
    "df.to_csv(\"youtube_comments.csv\", index=False)"
   ]
  }
 ],
 "metadata": {
  "kernelspec": {
   "display_name": "Python 3 (ipykernel)",
   "language": "python",
   "name": "python3"
  },
  "language_info": {
   "codemirror_mode": {
    "name": "ipython",
    "version": 3
   },
   "file_extension": ".py",
   "mimetype": "text/x-python",
   "name": "python",
   "nbconvert_exporter": "python",
   "pygments_lexer": "ipython3",
   "version": "3.11.1"
  }
 },
 "nbformat": 4,
 "nbformat_minor": 5
}
